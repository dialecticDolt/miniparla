{
 "cells": [
  {
   "cell_type": "code",
   "execution_count": 95,
   "metadata": {},
   "outputs": [
    {
     "name": "stdout",
     "output_type": "stream",
     "text": [
      "    workers   n  task_time  accesses  frac  total_time\n",
      "1         1  40      50000         1   0.1    2.009076\n",
      "12        2  40      50000         1   0.1    1.014820\n",
      "23        3  40      50000         1   0.1    0.723614\n",
      "34        4  40      50000         1   0.1    0.541018\n",
      "45        5  40      50000         1   0.1    0.439127\n",
      "56        6  40      50000         1   0.1    0.388195\n",
      "67        7  40      50000         1   0.1    0.343391\n",
      "78        8  40      50000         1   0.1    0.314275\n"
     ]
    }
   ],
   "source": [
    "import pandas as pd\n",
    "import numpy as np\n",
    "import matplotlib.pyplot as plt\n",
    "plt.rcParams.update({\n",
    "    'figure.figsize': (7, 5),\n",
    "    'figure.dpi': 100,\n",
    "    'text.usetex': True,\n",
    "    'font.family': 'serif',\n",
    "    'font.size': 12,\n",
    "})\n",
    "# Read in the data\n",
    "df = pd.read_csv('gil.csv', sep=', ', engine='python')\n",
    "\n",
    "df_frac0 = df[df['frac'] == 0.1]\n",
    "print(df_frac0)\n"
   ]
  },
  {
   "cell_type": "code",
   "execution_count": 80,
   "metadata": {},
   "outputs": [],
   "source": [
    "def plot_speedup(df, accesses, frac):\n",
    "\n",
    "    fig, ax = plt.subplots()\n",
    "    ax.spines['right'].set_visible(False)\n",
    "    ax.spines['top'].set_visible(False)\n",
    "\n",
    "    #Compute expected time\n",
    "    df['expected'] = (df['task_time']*df['n'])/(1e6)\n",
    "\n",
    "    #Select the data for the given accesses and frac\n",
    "    df = df[(df['accesses'] == accesses) & (df['frac'] == frac)]\n",
    "    print(df.head())\n",
    "    plt.plot(df['workers'], df['expected']/df['total_time'], label='Speedup')\n",
    "\n",
    "    plt.xlabel('Workers')\n",
    "    plt.ylabel('Speedup')\n"
   ]
  },
  {
   "cell_type": "code",
   "execution_count": 131,
   "metadata": {},
   "outputs": [
    {
     "name": "stdout",
     "output_type": "stream",
     "text": [
      "    workers   n  task_time  accesses  frac  total_time  expected   speedup\n",
      "0         1  40      50000         1   0.0    2.006151       2.0  0.996934\n",
      "11        2  40      50000         1   0.0    1.004356       2.0  1.991327\n",
      "22        3  40      50000         1   0.0    0.703955       2.0  2.841092\n",
      "33        4  40      50000         1   0.0    0.505422       2.0  3.957088\n",
      "44        5  40      50000         1   0.0    0.403279       2.0  4.959350\n",
      "55        6  40      50000         1   0.0    0.353028       2.0  5.665274\n",
      "66        7  40      50000         1   0.0    0.302429       2.0  6.613112\n",
      "77        8  40      50000         1   0.0    0.254549       2.0  7.857040\n",
      "0     1\n",
      "1     1\n",
      "2     1\n",
      "3     1\n",
      "4     1\n",
      "     ..\n",
      "83    8\n",
      "84    8\n",
      "85    8\n",
      "86    8\n",
      "87    8\n",
      "Name: workers, Length: 88, dtype: int64\n"
     ]
    },
    {
     "data": {
      "image/png": "[encoded data removed]",
      "text/plain": [
       "<Figure size 700x500 with 2 Axes>"
      ]
     },
     "metadata": {},
     "output_type": "display_data"
    }
   ],
   "source": [
    "def plot_fraction_workers(df, time, accesses):\n",
    "\n",
    "    from scipy.interpolate import griddata\n",
    "\n",
    "    #Plot as 2D surface\n",
    "\n",
    "    fig, ax = plt.subplots()\n",
    "    ax.spines['right'].set_visible(False)\n",
    "    ax.spines['top'].set_visible(False)\n",
    "\n",
    "    #Compute expected time\n",
    "    df['expected'] = (df['task_time']*df['n'])/(1e6)\n",
    "    df['speedup'] = df['expected']/df['total_time']\n",
    "\n",
    "    #Select the data for the given accesses and frac\n",
    "    df = df[(df['task_time'] == time) & (df['accesses'] == accesses)]\n",
    "\n",
    "    #print(df[df['frac'] == 0])\n",
    "\n",
    "    workers = df['workers'].unique()\n",
    "    fracs = df['frac'].unique()\n",
    "    workers, fracs = np.meshgrid(workers, fracs)\n",
    "    workers = workers.T\n",
    "    fracs = fracs.T\n",
    "    speedup  = df['speedup'].values.reshape(workers.shape)\n",
    "    \n",
    "    #Interpolate the data\n",
    "    #zi = griddata((df['workers'], df['accesses']), df['expected']/df['total_time'], (np.arange(1, 9), np.arange(1, 11)), method='linear')\n",
    "    mesh = plt.contourf(workers, fracs, speedup, levels=np.arange(0, 9), cmap='RdBu', vmin=1, vmax=8)\n",
    "    ax.set_xlim([1, 8])\n",
    "    ax.set_ylim([0, 1])\n",
    "\n",
    "    print(df['workers'])\n",
    "    ax.set_xlabel('Workers')\n",
    "    ax.set_ylabel('GIL Held \\%')\n",
    "    plt.colorbar(mesh)\n",
    "\n",
    "\n",
    "plot_fraction_workers(df, 50000, 1)"
   ]
  },
  {
   "cell_type": "code",
   "execution_count": null,
   "metadata": {},
   "outputs": [],
   "source": [
    "plot_speedup(df, 1, 0)"
   ]
  },
  {
   "cell_type": "code",
   "execution_count": 130,
   "metadata": {},
   "outputs": [
    {
     "data": {
      "application/vnd.jupyter.widget-view+json": {
       "model_id": "abbda9592976439fa267571229c99bb4",
       "version_major": 2,
       "version_minor": 0
      },
      "text/plain": [
       "interactive(children=(Dropdown(description='Task Length:', options=(50000,), value=50000), Dropdown(descriptio…"
      ]
     },
     "metadata": {},
     "output_type": "display_data"
    },
    {
     "data": {
      "text/plain": [
       "<function __main__.plot_fraction_workers(df, time, accesses)>"
      ]
     },
     "execution_count": 130,
     "metadata": {},
     "output_type": "execute_result"
    }
   ],
   "source": [
    "from ipywidgets import interact, interactive, fixed, interact_manual\n",
    "import ipywidgets as widgets\n",
    "\n",
    "drop_time = widgets.Dropdown(options=df['task_time'].unique(), value=50000, description='Task Length:')\n",
    "drop_accesses = widgets.Dropdown(options=df['accesses'].unique(), value=1, description='Accesses:')\n",
    "\n",
    "interact(plot_fraction_workers, df=fixed(df), time=drop_time, accesses=drop_accesses)"
   ]
  },
  {
   "cell_type": "code",
   "execution_count": null,
   "metadata": {},
   "outputs": [],
   "source": []
  }
 ],
 "metadata": {
  "kernelspec": {
   "display_name": "Python 3.9.5 ('base')",
   "language": "python",
   "name": "python3"
  },
  "language_info": {
   "codemirror_mode": {
    "name": "ipython",
    "version": 3
   },
   "file_extension": ".py",
   "mimetype": "text/x-python",
   "name": "python",
   "nbconvert_exporter": "python",
   "pygments_lexer": "ipython3",
   "version": "3.9.5"
  },
  "orig_nbformat": 4,
  "vscode": {
   "interpreter": {
    "hash": "4d24da4dc4d5c07e0fe54234afc9f5d3b2c6b7aa241c795f9861c380028bf5f2"
   }
  }
 },
 "nbformat": 4,
 "nbformat_minor": 2
}
