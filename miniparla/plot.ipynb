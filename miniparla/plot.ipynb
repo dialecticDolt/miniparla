{
 "cells": [
  {
   "cell_type": "code",
   "execution_count": 1,
   "metadata": {},
   "outputs": [
    {
     "name": "stdout",
     "output_type": "stream",
     "text": [
      "      workers   n  task_time  accesses  frac  total_time\n",
      "3           1  20        100         1   0.1    0.003078\n",
      "12          2  20        100         1   0.1    0.001879\n",
      "21          3  20        100         1   0.1    0.001520\n",
      "30          4  20        100         1   0.1    0.001483\n",
      "39          5  20        100         1   0.1    0.001871\n",
      "...       ...  ..        ...       ...   ...         ...\n",
      "3846        4  20      13000       100   0.1    0.069266\n",
      "3855        5  20      13000       100   0.1    0.056169\n",
      "3864        6  20      13000       100   0.1    0.057883\n",
      "3873        7  20      13000       100   0.1    0.051577\n",
      "3882        8  20      13000       100   0.1    0.059606\n",
      "\n",
      "[432 rows x 6 columns]\n"
     ]
    }
   ],
   "source": [
    "import pandas as pd\n",
    "import numpy as np\n",
    "import matplotlib.pyplot as plt\n",
    "plt.rcParams.update({\n",
    "    'figure.figsize': (7, 5),\n",
    "    'figure.dpi': 100,\n",
    "    'text.usetex': True,\n",
    "    'font.family': 'serif',\n",
    "    'font.size': 12,\n",
    "})\n",
    "# Read in the data\n",
    "df = pd.read_csv('gil_20_tasks.csv', sep=', ', engine='python')\n",
    "\n",
    "df_frac0 = df[df['frac'] == 0.1]\n",
    "print(df_frac0)\n"
   ]
  },
  {
   "cell_type": "code",
   "execution_count": 2,
   "metadata": {
    "notebookRunGroups": {
     "groupValue": "1"
    }
   },
   "outputs": [],
   "source": [
    "def plot_speedup(df, accesses, frac):\n",
    "\n",
    "    fig, ax = plt.subplots()\n",
    "    ax.spines['right'].set_visible(False)\n",
    "    ax.spines['top'].set_visible(False)\n",
    "\n",
    "    #Compute expected time\n",
    "    df['expected'] = (df['task_time']*df['n'])/(1e6)\n",
    "\n",
    "    #Select the data for the given accesses and frac\n",
    "    df = df[(df['accesses'] == accesses) & (df['frac'] == frac)]\n",
    "    print(df.head())\n",
    "    plt.plot(df['workers'], df['expected']/df['total_time'], label='Speedup')\n",
    "\n",
    "    plt.xlabel('Workers')\n",
    "    plt.ylabel('Speedup')\n"
   ]
  },
  {
   "cell_type": "code",
   "execution_count": 3,
   "metadata": {
    "notebookRunGroups": {
     "groupValue": "1"
    }
   },
   "outputs": [],
   "source": [
    "def plot_fraction_workers(df, time, accesses):\n",
    "\n",
    "    from scipy.interpolate import griddata\n",
    "\n",
    "    #Plot as 2D surface\n",
    "\n",
    "    fig, ax = plt.subplots()\n",
    "    ax.spines['right'].set_visible(False)\n",
    "    ax.spines['top'].set_visible(False)\n",
    "\n",
    "    #Compute expected time\n",
    "    df['expected'] = (df['task_time']*df['n'])/(1e6)\n",
    "    df['speedup'] = df['expected']/df['total_time']\n",
    "\n",
    "    #Select the data for the given accesses and frac\n",
    "    df = df[(df['task_time'] == time) & (df['accesses'] == accesses)]\n",
    "\n",
    "    #print(df[df['frac'] == 0])\n",
    "\n",
    "    workers = df['workers'].unique()\n",
    "    fracs = df['frac'].unique()\n",
    "    workers, fracs = np.meshgrid(workers, fracs)\n",
    "    workers = workers.T\n",
    "    fracs = fracs.T\n",
    "    speedup  = df['speedup'].values.reshape(workers.shape)\n",
    "    \n",
    "    #Interpolate the data\n",
    "    #zi = griddata((df['workers'], df['accesses']), df['expected']/df['total_time'], (np.arange(1, 9), np.arange(1, 11)), method='linear')\n",
    "    mesh = plt.contourf(workers, fracs, speedup, levels=np.arange(0, 9), cmap='RdBu', vmin=1, vmax=8)\n",
    "    ax.set_xlim([1, 8])\n",
    "    ax.set_ylim([0, 0.5])\n",
    "\n",
    "    #print(df['workers'])\n",
    "    ax.set_xlabel('Workers')\n",
    "    ax.set_ylabel('GIL Held \\%')\n",
    "    plt.colorbar(mesh)\n",
    "\n",
    "\n",
    "#plot_fraction_workers(df, 50000, 1)"
   ]
  },
  {
   "cell_type": "code",
   "execution_count": null,
   "metadata": {},
   "outputs": [],
   "source": []
  },
  {
   "cell_type": "code",
   "execution_count": 4,
   "metadata": {
    "notebookRunGroups": {
     "groupValue": "1"
    }
   },
   "outputs": [],
   "source": [
    "def plot_access_workers(df, time, fraction):\n",
    "\n",
    "    from scipy.interpolate import griddata\n",
    "\n",
    "    #Plot as 2D surface\n",
    "\n",
    "    fig, ax = plt.subplots()\n",
    "    ax.spines['right'].set_visible(False)\n",
    "    ax.spines['top'].set_visible(False)\n",
    "\n",
    "    #Compute expected time\n",
    "    df['expected'] = (df['task_time']*df['n'])/(1e6)\n",
    "    df['speedup'] = df['expected']/df['total_time']\n",
    "\n",
    "    #Select the data for the given accesses and frac\n",
    "    df = df[(df['task_time'] == time) & (df['frac'] == fraction)]\n",
    "\n",
    "    print(df.head())\n",
    "    #print(df[df['frac'] == 0])\n",
    "\n",
    "    workers = df['workers'].unique()\n",
    "    fracs = df['accesses'].unique()\n",
    "    workers, fracs = np.meshgrid(workers, fracs)\n",
    "    workers = workers\n",
    "    fracs = fracs\n",
    "    speedup = df['speedup'].values.reshape(workers.shape)\n",
    "\n",
    "    #Interpolate the data\n",
    "    #zi = griddata((df['workers'], df['accesses']), df['expected']/df['total_time'], (np.arange(1, 9), np.arange(1, 11)), method='linear')\n",
    "    mesh = plt.contourf(workers, fracs, speedup, levels=np.arange(\n",
    "        0, 9), cmap='RdBu', vmin=1, vmax=8)\n",
    "    ax.set_xlim([1, 8])\n",
    "    ax.set_ylim([0, 100])\n",
    "\n",
    "    #print(df['workers'])\n",
    "    ax.set_xlabel('Workers')\n",
    "    ax.set_ylabel('GIL Accesses')\n",
    "    plt.colorbar(mesh, label='Speedup')\n"
   ]
  },
  {
   "cell_type": "code",
   "execution_count": 5,
   "metadata": {
    "notebookRunGroups": {
     "groupValue": "2"
    }
   },
   "outputs": [
    {
     "data": {
      "application/vnd.jupyter.widget-view+json": {
       "model_id": "b9f4ce8268ab4acfabb96bdc4d953ad9",
       "version_major": 2,
       "version_minor": 0
      },
      "text/plain": [
       "interactive(children=(Dropdown(description='Task Length:', options=(100, 500, 1000, 3000, 5000, 7000, 9000, 11…"
      ]
     },
     "metadata": {},
     "output_type": "display_data"
    },
    {
     "data": {
      "text/plain": [
       "<function __main__.plot_fraction_workers(df, time, accesses)>"
      ]
     },
     "execution_count": 5,
     "metadata": {},
     "output_type": "execute_result"
    }
   ],
   "source": [
    "from ipywidgets import interact, interactive, fixed, interact_manual\n",
    "import ipywidgets as widgets\n",
    "\n",
    "drop_time = widgets.Dropdown(options=df['task_time'].unique(), value=df['task_time'].values[0], description='Task Length:')\n",
    "drop_accesses = widgets.Dropdown(options=df['accesses'].unique(), value=1, description='Accesses:')\n",
    "\n",
    "interact(plot_fraction_workers, df=fixed(df), time=drop_time, accesses=drop_accesses)"
   ]
  },
  {
   "cell_type": "code",
   "execution_count": 6,
   "metadata": {
    "notebookRunGroups": {
     "groupValue": "2"
    }
   },
   "outputs": [
    {
     "data": {
      "application/vnd.jupyter.widget-view+json": {
       "model_id": "a163c9d94fbd452b9520a1794e5da9ac",
       "version_major": 2,
       "version_minor": 0
      },
      "text/plain": [
       "interactive(children=(Dropdown(description='Task Length:', options=(100, 500, 1000, 3000, 5000, 7000, 9000, 11…"
      ]
     },
     "metadata": {},
     "output_type": "display_data"
    },
    {
     "data": {
      "text/plain": [
       "<function __main__.plot_access_workers(df, time, fraction)>"
      ]
     },
     "execution_count": 6,
     "metadata": {},
     "output_type": "execute_result"
    }
   ],
   "source": [
    "from ipywidgets import interact, interactive, fixed, interact_manual\n",
    "import ipywidgets as widgets\n",
    "\n",
    "drop_time = widgets.Dropdown(options=df['task_time'].unique(\n",
    "), value=df['task_time'].values[0], description='Task Length:')\n",
    "drop_frac = widgets.Dropdown(\n",
    "    options=df['frac'].unique(), value=0, description='GIL Fraction:')\n",
    "\n",
    "interact(plot_access_workers, df=fixed(df),\n",
    "         time=drop_time, fraction=drop_frac)\n"
   ]
  },
  {
   "cell_type": "code",
   "execution_count": null,
   "metadata": {},
   "outputs": [],
   "source": []
  }
 ],
 "metadata": {
  "kernelspec": {
   "display_name": "Python 3.9.5 ('base')",
   "language": "python",
   "name": "python3"
  },
  "language_info": {
   "codemirror_mode": {
    "name": "ipython",
    "version": 3
   },
   "file_extension": ".py",
   "mimetype": "text/x-python",
   "name": "python",
   "nbconvert_exporter": "python",
   "pygments_lexer": "ipython3",
   "version": "3.9.5"
  },
  "orig_nbformat": 4,
  "vscode": {
   "interpreter": {
    "hash": "4d24da4dc4d5c07e0fe54234afc9f5d3b2c6b7aa241c795f9861c380028bf5f2"
   }
  }
 },
 "nbformat": 4,
 "nbformat_minor": 2
}
